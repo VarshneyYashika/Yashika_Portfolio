{
 "cells": [
  {
   "cell_type": "code",
   "execution_count": 1,
   "id": "d7ac9405",
   "metadata": {
    "_cell_guid": "b1076dfc-b9ad-4769-8c92-a6c4dae69d19",
    "_uuid": "8f2839f25d086af736a60e9eeb907d3b93b6e0e5",
    "execution": {
     "iopub.execute_input": "2022-09-08T14:25:54.332399Z",
     "iopub.status.busy": "2022-09-08T14:25:54.331102Z",
     "iopub.status.idle": "2022-09-08T14:25:54.353505Z",
     "shell.execute_reply": "2022-09-08T14:25:54.352425Z"
    },
    "papermill": {
     "duration": 0.036441,
     "end_time": "2022-09-08T14:25:54.355915",
     "exception": false,
     "start_time": "2022-09-08T14:25:54.319474",
     "status": "completed"
    },
    "tags": []
   },
   "outputs": [
    {
     "name": "stdout",
     "output_type": "stream",
     "text": [
      "/kaggle/input/analyticsvjobathon/train_wn75k28.csv\n",
      "/kaggle/input/analyticsvjobathon/sample_submission_2zvVjBu.csv\n",
      "/kaggle/input/analyticsvjobathon/test_Wf7sxXF.csv\n"
     ]
    }
   ],
   "source": [
    "# This Python 3 environment comes with many helpful analytics libraries installed\n",
    "# It is defined by the kaggle/python Docker image: https://github.com/kaggle/docker-python\n",
    "# For example, here's several helpful packages to load\n",
    "\n",
    "import numpy as np # linear algebra\n",
    "import pandas as pd # data processing, CSV file I/O (e.g. pd.read_csv)\n",
    "\n",
    "# Input data files are available in the read-only \"../input/\" directory\n",
    "# For example, running this (by clicking run or pressing Shift+Enter) will list all files under the input directory\n",
    "\n",
    "import os\n",
    "for dirname, _, filenames in os.walk('/kaggle/input'):\n",
    "    for filename in filenames:\n",
    "        print(os.path.join(dirname, filename))\n",
    "\n",
    "# You can write up to 20GB to the current directory (/kaggle/working/) that gets preserved as output when you create a version using \"Save & Run All\" \n",
    "# You can also write temporary files to /kaggle/temp/, but they won't be saved outside of the current session"
   ]
  },
  {
   "cell_type": "markdown",
   "id": "bf555aca",
   "metadata": {
    "papermill": {
     "duration": 0.00499,
     "end_time": "2022-09-08T14:25:54.366514",
     "exception": false,
     "start_time": "2022-09-08T14:25:54.361524",
     "status": "completed"
    },
    "tags": []
   },
   "source": [
    "The problem was to find the potential lead for the startup by identifying the leads which will buy product in next 3 months given the data containing various information regarding user’s past activity including whether the user bought a product in upcoming 3 months.\n",
    "Since, the given dataset included whether the lead bought the product in the past or not, it was a Supervised Learning Problem.\n",
    "This was a classification problem with target variable (‘buy’) taking 2 values: 0 (lead won’t buy the product) and 1(lead will buy the product).\n",
    "The training set had 17 variables where 2 of them had dates and rest of them had integer type data.\n",
    "Dates are non-acceptable form of data types for most models. So, Dates were changed to suitable data type.\n",
    "Different suitable classification models were tried and the one with the highest F1 score was used.\n",
    "Training dataset was split into 2 sets containing 75% and 25% (validation set) of the whole data. Validation dataset was used to tune the parameters of the model selected.\n",
    "The approach with the highest F1 score on validation set was finalized and used to predict the target variable ‘buy’ on given test dataset."
   ]
  },
  {
   "cell_type": "markdown",
   "id": "68e72b49",
   "metadata": {
    "papermill": {
     "duration": 0.004915,
     "end_time": "2022-09-08T14:25:54.376582",
     "exception": false,
     "start_time": "2022-09-08T14:25:54.371667",
     "status": "completed"
    },
    "tags": []
   },
   "source": [
    "***Preprocessing the dataset:***\n",
    "There were two problems with the dataset provided:\n",
    "1. Data type of ‘created_ at’ and ‘signup_date’ columns:\n",
    "They could not be used as they contained ‘object’ type data and that could not be directly changed to useful integers. But, calculating how far ago leads were dropped and signed up on the website can be a useful indicator of whether they will buy the product or not. So, all dates were changed to how many days ago the lead dropped or signed up. The days could be easily converted to integer data type.\n",
    "2. Missing values in ‘products_ purchased’ and ‘signup_date’ columns:\n",
    "Missing values could indicate no product purchased in ‘products_purchased’ and no signup in ‘signup_date’. The natural step will be to replace missing values with 0 in both the columns.\n",
    "After these steps, all the features were normalized as the range of values were very different for different features given which might affect our accuracy in predictions (as also found when tested)."
   ]
  },
  {
   "cell_type": "code",
   "execution_count": 2,
   "id": "d1c8beff",
   "metadata": {
    "execution": {
     "iopub.execute_input": "2022-09-08T14:25:54.388732Z",
     "iopub.status.busy": "2022-09-08T14:25:54.388137Z",
     "iopub.status.idle": "2022-09-08T14:25:55.768944Z",
     "shell.execute_reply": "2022-09-08T14:25:55.767988Z"
    },
    "papermill": {
     "duration": 1.389808,
     "end_time": "2022-09-08T14:25:55.771534",
     "exception": false,
     "start_time": "2022-09-08T14:25:54.381726",
     "status": "completed"
    },
    "tags": []
   },
   "outputs": [],
   "source": [
    "import datetime\n",
    "from sklearn.model_selection import train_test_split\n",
    "from sklearn.impute import SimpleImputer\n",
    "from sklearn.ensemble import RandomForestClassifier\n",
    "from sklearn.metrics import mean_absolute_error\n",
    "from sklearn.linear_model import LogisticRegression\n",
    "from sklearn.preprocessing import MinMaxScaler\n",
    "from sklearn.metrics import f1_score\n",
    "from sklearn.neural_network import MLPClassifier"
   ]
  },
  {
   "cell_type": "code",
   "execution_count": 3,
   "id": "8eb79ba9",
   "metadata": {
    "execution": {
     "iopub.execute_input": "2022-09-08T14:25:55.783717Z",
     "iopub.status.busy": "2022-09-08T14:25:55.783183Z",
     "iopub.status.idle": "2022-09-08T14:25:55.937919Z",
     "shell.execute_reply": "2022-09-08T14:25:55.937034Z"
    },
    "papermill": {
     "duration": 0.163617,
     "end_time": "2022-09-08T14:25:55.940423",
     "exception": false,
     "start_time": "2022-09-08T14:25:55.776806",
     "status": "completed"
    },
    "tags": []
   },
   "outputs": [],
   "source": [
    "#Reading data from train and test datasets\n",
    "file_path = '../input/analyticsvjobathon/train_wn75k28.csv'\n",
    "lead_data = pd.read_csv(file_path,index_col='id')\n",
    "\n",
    "file_path2='../input/analyticsvjobathon/test_Wf7sxXF.csv'\n",
    "X_test=pd.read_csv(file_path2,index_col='id')"
   ]
  },
  {
   "cell_type": "code",
   "execution_count": 4,
   "id": "fef39035",
   "metadata": {
    "execution": {
     "iopub.execute_input": "2022-09-08T14:25:55.952677Z",
     "iopub.status.busy": "2022-09-08T14:25:55.952284Z",
     "iopub.status.idle": "2022-09-08T14:25:55.970025Z",
     "shell.execute_reply": "2022-09-08T14:25:55.969054Z"
    },
    "papermill": {
     "duration": 0.026731,
     "end_time": "2022-09-08T14:25:55.972510",
     "exception": false,
     "start_time": "2022-09-08T14:25:55.945779",
     "status": "completed"
    },
    "tags": []
   },
   "outputs": [],
   "source": [
    "#Seperating predictors and target values\n",
    "\n",
    "X=lead_data.copy()\n",
    "y=X.buy\n",
    "X_full=X.drop(['buy'], axis=1)\n",
    "\n"
   ]
  },
  {
   "cell_type": "code",
   "execution_count": 5,
   "id": "8390dc95",
   "metadata": {
    "execution": {
     "iopub.execute_input": "2022-09-08T14:25:55.984525Z",
     "iopub.status.busy": "2022-09-08T14:25:55.984136Z",
     "iopub.status.idle": "2022-09-08T14:25:56.026079Z",
     "shell.execute_reply": "2022-09-08T14:25:56.024622Z"
    },
    "papermill": {
     "duration": 0.051431,
     "end_time": "2022-09-08T14:25:56.029234",
     "exception": false,
     "start_time": "2022-09-08T14:25:55.977803",
     "status": "completed"
    },
    "tags": []
   },
   "outputs": [
    {
     "name": "stdout",
     "output_type": "stream",
     "text": [
      "<class 'pandas.core.frame.DataFrame'>\n",
      "Int64Index: 39161 entries, 1 to 39161\n",
      "Data columns (total 17 columns):\n",
      " #   Column                Non-Null Count  Dtype  \n",
      "---  ------                --------------  -----  \n",
      " 0   created_at            39161 non-null  object \n",
      " 1   campaign_var_1        39161 non-null  int64  \n",
      " 2   campaign_var_2        39161 non-null  int64  \n",
      " 3   products_purchased    18250 non-null  float64\n",
      " 4   signup_date           24048 non-null  object \n",
      " 5   user_activity_var_1   39161 non-null  int64  \n",
      " 6   user_activity_var_2   39161 non-null  int64  \n",
      " 7   user_activity_var_3   39161 non-null  int64  \n",
      " 8   user_activity_var_4   39161 non-null  int64  \n",
      " 9   user_activity_var_5   39161 non-null  int64  \n",
      " 10  user_activity_var_6   39161 non-null  int64  \n",
      " 11  user_activity_var_7   39161 non-null  int64  \n",
      " 12  user_activity_var_8   39161 non-null  int64  \n",
      " 13  user_activity_var_9   39161 non-null  int64  \n",
      " 14  user_activity_var_10  39161 non-null  int64  \n",
      " 15  user_activity_var_11  39161 non-null  int64  \n",
      " 16  user_activity_var_12  39161 non-null  int64  \n",
      "dtypes: float64(1), int64(14), object(2)\n",
      "memory usage: 5.4+ MB\n"
     ]
    },
    {
     "data": {
      "text/html": [
       "<div>\n",
       "<style scoped>\n",
       "    .dataframe tbody tr th:only-of-type {\n",
       "        vertical-align: middle;\n",
       "    }\n",
       "\n",
       "    .dataframe tbody tr th {\n",
       "        vertical-align: top;\n",
       "    }\n",
       "\n",
       "    .dataframe thead th {\n",
       "        text-align: right;\n",
       "    }\n",
       "</style>\n",
       "<table border=\"1\" class=\"dataframe\">\n",
       "  <thead>\n",
       "    <tr style=\"text-align: right;\">\n",
       "      <th></th>\n",
       "      <th>created_at</th>\n",
       "      <th>campaign_var_1</th>\n",
       "      <th>campaign_var_2</th>\n",
       "      <th>products_purchased</th>\n",
       "      <th>signup_date</th>\n",
       "      <th>user_activity_var_1</th>\n",
       "      <th>user_activity_var_2</th>\n",
       "      <th>user_activity_var_3</th>\n",
       "      <th>user_activity_var_4</th>\n",
       "      <th>user_activity_var_5</th>\n",
       "      <th>user_activity_var_6</th>\n",
       "      <th>user_activity_var_7</th>\n",
       "      <th>user_activity_var_8</th>\n",
       "      <th>user_activity_var_9</th>\n",
       "      <th>user_activity_var_10</th>\n",
       "      <th>user_activity_var_11</th>\n",
       "      <th>user_activity_var_12</th>\n",
       "    </tr>\n",
       "    <tr>\n",
       "      <th>id</th>\n",
       "      <th></th>\n",
       "      <th></th>\n",
       "      <th></th>\n",
       "      <th></th>\n",
       "      <th></th>\n",
       "      <th></th>\n",
       "      <th></th>\n",
       "      <th></th>\n",
       "      <th></th>\n",
       "      <th></th>\n",
       "      <th></th>\n",
       "      <th></th>\n",
       "      <th></th>\n",
       "      <th></th>\n",
       "      <th></th>\n",
       "      <th></th>\n",
       "      <th></th>\n",
       "    </tr>\n",
       "  </thead>\n",
       "  <tbody>\n",
       "    <tr>\n",
       "      <th>1</th>\n",
       "      <td>2021-01-01</td>\n",
       "      <td>1</td>\n",
       "      <td>2</td>\n",
       "      <td>2.0</td>\n",
       "      <td>2020-09-24</td>\n",
       "      <td>0</td>\n",
       "      <td>0</td>\n",
       "      <td>0</td>\n",
       "      <td>0</td>\n",
       "      <td>0</td>\n",
       "      <td>0</td>\n",
       "      <td>1</td>\n",
       "      <td>1</td>\n",
       "      <td>0</td>\n",
       "      <td>0</td>\n",
       "      <td>0</td>\n",
       "      <td>0</td>\n",
       "    </tr>\n",
       "    <tr>\n",
       "      <th>2</th>\n",
       "      <td>2021-01-01</td>\n",
       "      <td>2</td>\n",
       "      <td>1</td>\n",
       "      <td>2.0</td>\n",
       "      <td>2020-09-19</td>\n",
       "      <td>1</td>\n",
       "      <td>0</td>\n",
       "      <td>1</td>\n",
       "      <td>0</td>\n",
       "      <td>0</td>\n",
       "      <td>0</td>\n",
       "      <td>1</td>\n",
       "      <td>0</td>\n",
       "      <td>0</td>\n",
       "      <td>0</td>\n",
       "      <td>0</td>\n",
       "      <td>0</td>\n",
       "    </tr>\n",
       "    <tr>\n",
       "      <th>3</th>\n",
       "      <td>2021-01-01</td>\n",
       "      <td>9</td>\n",
       "      <td>3</td>\n",
       "      <td>3.0</td>\n",
       "      <td>2021-08-11</td>\n",
       "      <td>1</td>\n",
       "      <td>0</td>\n",
       "      <td>0</td>\n",
       "      <td>0</td>\n",
       "      <td>0</td>\n",
       "      <td>0</td>\n",
       "      <td>0</td>\n",
       "      <td>0</td>\n",
       "      <td>0</td>\n",
       "      <td>0</td>\n",
       "      <td>0</td>\n",
       "      <td>0</td>\n",
       "    </tr>\n",
       "    <tr>\n",
       "      <th>4</th>\n",
       "      <td>2021-01-01</td>\n",
       "      <td>6</td>\n",
       "      <td>7</td>\n",
       "      <td>2.0</td>\n",
       "      <td>2017-10-04</td>\n",
       "      <td>0</td>\n",
       "      <td>0</td>\n",
       "      <td>0</td>\n",
       "      <td>0</td>\n",
       "      <td>0</td>\n",
       "      <td>0</td>\n",
       "      <td>0</td>\n",
       "      <td>0</td>\n",
       "      <td>0</td>\n",
       "      <td>0</td>\n",
       "      <td>0</td>\n",
       "      <td>0</td>\n",
       "    </tr>\n",
       "    <tr>\n",
       "      <th>5</th>\n",
       "      <td>2021-01-01</td>\n",
       "      <td>4</td>\n",
       "      <td>6</td>\n",
       "      <td>NaN</td>\n",
       "      <td>2020-06-08</td>\n",
       "      <td>0</td>\n",
       "      <td>0</td>\n",
       "      <td>0</td>\n",
       "      <td>0</td>\n",
       "      <td>0</td>\n",
       "      <td>0</td>\n",
       "      <td>1</td>\n",
       "      <td>0</td>\n",
       "      <td>0</td>\n",
       "      <td>0</td>\n",
       "      <td>1</td>\n",
       "      <td>0</td>\n",
       "    </tr>\n",
       "  </tbody>\n",
       "</table>\n",
       "</div>"
      ],
      "text/plain": [
       "    created_at  campaign_var_1  campaign_var_2  products_purchased  \\\n",
       "id                                                                   \n",
       "1   2021-01-01               1               2                 2.0   \n",
       "2   2021-01-01               2               1                 2.0   \n",
       "3   2021-01-01               9               3                 3.0   \n",
       "4   2021-01-01               6               7                 2.0   \n",
       "5   2021-01-01               4               6                 NaN   \n",
       "\n",
       "   signup_date  user_activity_var_1  user_activity_var_2  user_activity_var_3  \\\n",
       "id                                                                              \n",
       "1   2020-09-24                    0                    0                    0   \n",
       "2   2020-09-19                    1                    0                    1   \n",
       "3   2021-08-11                    1                    0                    0   \n",
       "4   2017-10-04                    0                    0                    0   \n",
       "5   2020-06-08                    0                    0                    0   \n",
       "\n",
       "    user_activity_var_4  user_activity_var_5  user_activity_var_6  \\\n",
       "id                                                                  \n",
       "1                     0                    0                    0   \n",
       "2                     0                    0                    0   \n",
       "3                     0                    0                    0   \n",
       "4                     0                    0                    0   \n",
       "5                     0                    0                    0   \n",
       "\n",
       "    user_activity_var_7  user_activity_var_8  user_activity_var_9  \\\n",
       "id                                                                  \n",
       "1                     1                    1                    0   \n",
       "2                     1                    0                    0   \n",
       "3                     0                    0                    0   \n",
       "4                     0                    0                    0   \n",
       "5                     1                    0                    0   \n",
       "\n",
       "    user_activity_var_10  user_activity_var_11  user_activity_var_12  \n",
       "id                                                                    \n",
       "1                      0                     0                     0  \n",
       "2                      0                     0                     0  \n",
       "3                      0                     0                     0  \n",
       "4                      0                     0                     0  \n",
       "5                      0                     1                     0  "
      ]
     },
     "execution_count": 5,
     "metadata": {},
     "output_type": "execute_result"
    }
   ],
   "source": [
    "#Understanding data\n",
    "X_full.info()\n",
    "X_full.head()"
   ]
  },
  {
   "cell_type": "code",
   "execution_count": 6,
   "id": "7343bcf6",
   "metadata": {
    "execution": {
     "iopub.execute_input": "2022-09-08T14:25:56.043721Z",
     "iopub.status.busy": "2022-09-08T14:25:56.043319Z",
     "iopub.status.idle": "2022-09-08T14:25:56.066217Z",
     "shell.execute_reply": "2022-09-08T14:25:56.064926Z"
    },
    "papermill": {
     "duration": 0.033241,
     "end_time": "2022-09-08T14:25:56.068698",
     "exception": false,
     "start_time": "2022-09-08T14:25:56.035457",
     "status": "completed"
    },
    "tags": []
   },
   "outputs": [],
   "source": [
    "#Chnaging dates to datetime datatype for manipulation\n",
    "X_full['created_at'] = pd.to_datetime(X_full['created_at'])\n",
    "X_full['signup_date']=pd.to_datetime(X_full['signup_date'])"
   ]
  },
  {
   "cell_type": "code",
   "execution_count": 7,
   "id": "ef541ce1",
   "metadata": {
    "execution": {
     "iopub.execute_input": "2022-09-08T14:25:56.082043Z",
     "iopub.status.busy": "2022-09-08T14:25:56.081597Z",
     "iopub.status.idle": "2022-09-08T14:25:56.090398Z",
     "shell.execute_reply": "2022-09-08T14:25:56.089408Z"
    },
    "papermill": {
     "duration": 0.019208,
     "end_time": "2022-09-08T14:25:56.093745",
     "exception": false,
     "start_time": "2022-09-08T14:25:56.074537",
     "status": "completed"
    },
    "tags": []
   },
   "outputs": [],
   "source": [
    "#Changing dates to time elapsed from today\n",
    "dt = datetime.date.today()\n",
    "today = pd.DatetimeIndex([dt])[0]\n",
    "X_full['signup_date']=today-X_full['signup_date']\n",
    "X_full['created_at']=today-X_full['created_at']"
   ]
  },
  {
   "cell_type": "code",
   "execution_count": 8,
   "id": "588ee0c8",
   "metadata": {
    "execution": {
     "iopub.execute_input": "2022-09-08T14:25:56.107720Z",
     "iopub.status.busy": "2022-09-08T14:25:56.107305Z",
     "iopub.status.idle": "2022-09-08T14:25:56.134876Z",
     "shell.execute_reply": "2022-09-08T14:25:56.133812Z"
    },
    "papermill": {
     "duration": 0.037279,
     "end_time": "2022-09-08T14:25:56.137499",
     "exception": false,
     "start_time": "2022-09-08T14:25:56.100220",
     "status": "completed"
    },
    "tags": []
   },
   "outputs": [
    {
     "name": "stdout",
     "output_type": "stream",
     "text": [
      "<class 'pandas.core.frame.DataFrame'>\n",
      "Int64Index: 39161 entries, 1 to 39161\n",
      "Data columns (total 17 columns):\n",
      " #   Column                Non-Null Count  Dtype          \n",
      "---  ------                --------------  -----          \n",
      " 0   created_at            39161 non-null  timedelta64[ns]\n",
      " 1   campaign_var_1        39161 non-null  int64          \n",
      " 2   campaign_var_2        39161 non-null  int64          \n",
      " 3   products_purchased    18250 non-null  float64        \n",
      " 4   signup_date           24048 non-null  timedelta64[ns]\n",
      " 5   user_activity_var_1   39161 non-null  int64          \n",
      " 6   user_activity_var_2   39161 non-null  int64          \n",
      " 7   user_activity_var_3   39161 non-null  int64          \n",
      " 8   user_activity_var_4   39161 non-null  int64          \n",
      " 9   user_activity_var_5   39161 non-null  int64          \n",
      " 10  user_activity_var_6   39161 non-null  int64          \n",
      " 11  user_activity_var_7   39161 non-null  int64          \n",
      " 12  user_activity_var_8   39161 non-null  int64          \n",
      " 13  user_activity_var_9   39161 non-null  int64          \n",
      " 14  user_activity_var_10  39161 non-null  int64          \n",
      " 15  user_activity_var_11  39161 non-null  int64          \n",
      " 16  user_activity_var_12  39161 non-null  int64          \n",
      "dtypes: float64(1), int64(14), timedelta64[ns](2)\n",
      "memory usage: 5.4 MB\n"
     ]
    },
    {
     "data": {
      "text/html": [
       "<div>\n",
       "<style scoped>\n",
       "    .dataframe tbody tr th:only-of-type {\n",
       "        vertical-align: middle;\n",
       "    }\n",
       "\n",
       "    .dataframe tbody tr th {\n",
       "        vertical-align: top;\n",
       "    }\n",
       "\n",
       "    .dataframe thead th {\n",
       "        text-align: right;\n",
       "    }\n",
       "</style>\n",
       "<table border=\"1\" class=\"dataframe\">\n",
       "  <thead>\n",
       "    <tr style=\"text-align: right;\">\n",
       "      <th></th>\n",
       "      <th>created_at</th>\n",
       "      <th>campaign_var_1</th>\n",
       "      <th>campaign_var_2</th>\n",
       "      <th>products_purchased</th>\n",
       "      <th>signup_date</th>\n",
       "      <th>user_activity_var_1</th>\n",
       "      <th>user_activity_var_2</th>\n",
       "      <th>user_activity_var_3</th>\n",
       "      <th>user_activity_var_4</th>\n",
       "      <th>user_activity_var_5</th>\n",
       "      <th>user_activity_var_6</th>\n",
       "      <th>user_activity_var_7</th>\n",
       "      <th>user_activity_var_8</th>\n",
       "      <th>user_activity_var_9</th>\n",
       "      <th>user_activity_var_10</th>\n",
       "      <th>user_activity_var_11</th>\n",
       "      <th>user_activity_var_12</th>\n",
       "    </tr>\n",
       "    <tr>\n",
       "      <th>id</th>\n",
       "      <th></th>\n",
       "      <th></th>\n",
       "      <th></th>\n",
       "      <th></th>\n",
       "      <th></th>\n",
       "      <th></th>\n",
       "      <th></th>\n",
       "      <th></th>\n",
       "      <th></th>\n",
       "      <th></th>\n",
       "      <th></th>\n",
       "      <th></th>\n",
       "      <th></th>\n",
       "      <th></th>\n",
       "      <th></th>\n",
       "      <th></th>\n",
       "      <th></th>\n",
       "    </tr>\n",
       "  </thead>\n",
       "  <tbody>\n",
       "    <tr>\n",
       "      <th>1</th>\n",
       "      <td>615 days</td>\n",
       "      <td>1</td>\n",
       "      <td>2</td>\n",
       "      <td>2.0</td>\n",
       "      <td>714 days</td>\n",
       "      <td>0</td>\n",
       "      <td>0</td>\n",
       "      <td>0</td>\n",
       "      <td>0</td>\n",
       "      <td>0</td>\n",
       "      <td>0</td>\n",
       "      <td>1</td>\n",
       "      <td>1</td>\n",
       "      <td>0</td>\n",
       "      <td>0</td>\n",
       "      <td>0</td>\n",
       "      <td>0</td>\n",
       "    </tr>\n",
       "    <tr>\n",
       "      <th>2</th>\n",
       "      <td>615 days</td>\n",
       "      <td>2</td>\n",
       "      <td>1</td>\n",
       "      <td>2.0</td>\n",
       "      <td>719 days</td>\n",
       "      <td>1</td>\n",
       "      <td>0</td>\n",
       "      <td>1</td>\n",
       "      <td>0</td>\n",
       "      <td>0</td>\n",
       "      <td>0</td>\n",
       "      <td>1</td>\n",
       "      <td>0</td>\n",
       "      <td>0</td>\n",
       "      <td>0</td>\n",
       "      <td>0</td>\n",
       "      <td>0</td>\n",
       "    </tr>\n",
       "    <tr>\n",
       "      <th>3</th>\n",
       "      <td>615 days</td>\n",
       "      <td>9</td>\n",
       "      <td>3</td>\n",
       "      <td>3.0</td>\n",
       "      <td>393 days</td>\n",
       "      <td>1</td>\n",
       "      <td>0</td>\n",
       "      <td>0</td>\n",
       "      <td>0</td>\n",
       "      <td>0</td>\n",
       "      <td>0</td>\n",
       "      <td>0</td>\n",
       "      <td>0</td>\n",
       "      <td>0</td>\n",
       "      <td>0</td>\n",
       "      <td>0</td>\n",
       "      <td>0</td>\n",
       "    </tr>\n",
       "    <tr>\n",
       "      <th>4</th>\n",
       "      <td>615 days</td>\n",
       "      <td>6</td>\n",
       "      <td>7</td>\n",
       "      <td>2.0</td>\n",
       "      <td>1800 days</td>\n",
       "      <td>0</td>\n",
       "      <td>0</td>\n",
       "      <td>0</td>\n",
       "      <td>0</td>\n",
       "      <td>0</td>\n",
       "      <td>0</td>\n",
       "      <td>0</td>\n",
       "      <td>0</td>\n",
       "      <td>0</td>\n",
       "      <td>0</td>\n",
       "      <td>0</td>\n",
       "      <td>0</td>\n",
       "    </tr>\n",
       "    <tr>\n",
       "      <th>5</th>\n",
       "      <td>615 days</td>\n",
       "      <td>4</td>\n",
       "      <td>6</td>\n",
       "      <td>NaN</td>\n",
       "      <td>822 days</td>\n",
       "      <td>0</td>\n",
       "      <td>0</td>\n",
       "      <td>0</td>\n",
       "      <td>0</td>\n",
       "      <td>0</td>\n",
       "      <td>0</td>\n",
       "      <td>1</td>\n",
       "      <td>0</td>\n",
       "      <td>0</td>\n",
       "      <td>0</td>\n",
       "      <td>1</td>\n",
       "      <td>0</td>\n",
       "    </tr>\n",
       "  </tbody>\n",
       "</table>\n",
       "</div>"
      ],
      "text/plain": [
       "   created_at  campaign_var_1  campaign_var_2  products_purchased signup_date  \\\n",
       "id                                                                              \n",
       "1    615 days               1               2                 2.0    714 days   \n",
       "2    615 days               2               1                 2.0    719 days   \n",
       "3    615 days               9               3                 3.0    393 days   \n",
       "4    615 days               6               7                 2.0   1800 days   \n",
       "5    615 days               4               6                 NaN    822 days   \n",
       "\n",
       "    user_activity_var_1  user_activity_var_2  user_activity_var_3  \\\n",
       "id                                                                  \n",
       "1                     0                    0                    0   \n",
       "2                     1                    0                    1   \n",
       "3                     1                    0                    0   \n",
       "4                     0                    0                    0   \n",
       "5                     0                    0                    0   \n",
       "\n",
       "    user_activity_var_4  user_activity_var_5  user_activity_var_6  \\\n",
       "id                                                                  \n",
       "1                     0                    0                    0   \n",
       "2                     0                    0                    0   \n",
       "3                     0                    0                    0   \n",
       "4                     0                    0                    0   \n",
       "5                     0                    0                    0   \n",
       "\n",
       "    user_activity_var_7  user_activity_var_8  user_activity_var_9  \\\n",
       "id                                                                  \n",
       "1                     1                    1                    0   \n",
       "2                     1                    0                    0   \n",
       "3                     0                    0                    0   \n",
       "4                     0                    0                    0   \n",
       "5                     1                    0                    0   \n",
       "\n",
       "    user_activity_var_10  user_activity_var_11  user_activity_var_12  \n",
       "id                                                                    \n",
       "1                      0                     0                     0  \n",
       "2                      0                     0                     0  \n",
       "3                      0                     0                     0  \n",
       "4                      0                     0                     0  \n",
       "5                      0                     1                     0  "
      ]
     },
     "execution_count": 8,
     "metadata": {},
     "output_type": "execute_result"
    }
   ],
   "source": [
    "X_full.info()\n",
    "X_full.head()\n"
   ]
  },
  {
   "cell_type": "code",
   "execution_count": 9,
   "id": "cf3b4be1",
   "metadata": {
    "execution": {
     "iopub.execute_input": "2022-09-08T14:25:56.151810Z",
     "iopub.status.busy": "2022-09-08T14:25:56.151401Z",
     "iopub.status.idle": "2022-09-08T14:25:56.159348Z",
     "shell.execute_reply": "2022-09-08T14:25:56.158381Z"
    },
    "papermill": {
     "duration": 0.017382,
     "end_time": "2022-09-08T14:25:56.161561",
     "exception": false,
     "start_time": "2022-09-08T14:25:56.144179",
     "status": "completed"
    },
    "tags": []
   },
   "outputs": [],
   "source": [
    "#Exctracting days and changing datatypes to integers\n",
    "X_full['created_at'] = (X_full['created_at'] / np.timedelta64(1,'D')).astype(int,errors='ignore')\n",
    "X_full['signup_date'] = (X_full['signup_date'] / np.timedelta64(1,'D')).astype(int,errors='ignore')"
   ]
  },
  {
   "cell_type": "code",
   "execution_count": 10,
   "id": "764c85b6",
   "metadata": {
    "execution": {
     "iopub.execute_input": "2022-09-08T14:25:56.175733Z",
     "iopub.status.busy": "2022-09-08T14:25:56.175327Z",
     "iopub.status.idle": "2022-09-08T14:25:56.190477Z",
     "shell.execute_reply": "2022-09-08T14:25:56.189380Z"
    },
    "papermill": {
     "duration": 0.024752,
     "end_time": "2022-09-08T14:25:56.192703",
     "exception": false,
     "start_time": "2022-09-08T14:25:56.167951",
     "status": "completed"
    },
    "tags": []
   },
   "outputs": [
    {
     "name": "stdout",
     "output_type": "stream",
     "text": [
      "<class 'pandas.core.frame.DataFrame'>\n",
      "Int64Index: 39161 entries, 1 to 39161\n",
      "Data columns (total 17 columns):\n",
      " #   Column                Non-Null Count  Dtype  \n",
      "---  ------                --------------  -----  \n",
      " 0   created_at            39161 non-null  int64  \n",
      " 1   campaign_var_1        39161 non-null  int64  \n",
      " 2   campaign_var_2        39161 non-null  int64  \n",
      " 3   products_purchased    18250 non-null  float64\n",
      " 4   signup_date           24048 non-null  float64\n",
      " 5   user_activity_var_1   39161 non-null  int64  \n",
      " 6   user_activity_var_2   39161 non-null  int64  \n",
      " 7   user_activity_var_3   39161 non-null  int64  \n",
      " 8   user_activity_var_4   39161 non-null  int64  \n",
      " 9   user_activity_var_5   39161 non-null  int64  \n",
      " 10  user_activity_var_6   39161 non-null  int64  \n",
      " 11  user_activity_var_7   39161 non-null  int64  \n",
      " 12  user_activity_var_8   39161 non-null  int64  \n",
      " 13  user_activity_var_9   39161 non-null  int64  \n",
      " 14  user_activity_var_10  39161 non-null  int64  \n",
      " 15  user_activity_var_11  39161 non-null  int64  \n",
      " 16  user_activity_var_12  39161 non-null  int64  \n",
      "dtypes: float64(2), int64(15)\n",
      "memory usage: 5.4 MB\n"
     ]
    }
   ],
   "source": [
    "X_full.info()"
   ]
  },
  {
   "cell_type": "code",
   "execution_count": 11,
   "id": "8e0eb8a1",
   "metadata": {
    "execution": {
     "iopub.execute_input": "2022-09-08T14:25:56.207141Z",
     "iopub.status.busy": "2022-09-08T14:25:56.206291Z",
     "iopub.status.idle": "2022-09-08T14:25:56.227303Z",
     "shell.execute_reply": "2022-09-08T14:25:56.226245Z"
    },
    "papermill": {
     "duration": 0.030637,
     "end_time": "2022-09-08T14:25:56.229751",
     "exception": false,
     "start_time": "2022-09-08T14:25:56.199114",
     "status": "completed"
    },
    "tags": []
   },
   "outputs": [],
   "source": [
    "#Splitting data in training and test sets\n",
    "X_train, X_valid, y_train, y_valid = train_test_split(X_full, y, test_size=0.25, random_state=1)"
   ]
  },
  {
   "cell_type": "markdown",
   "id": "e180617a",
   "metadata": {
    "papermill": {
     "duration": 0.005804,
     "end_time": "2022-09-08T14:25:56.241764",
     "exception": false,
     "start_time": "2022-09-08T14:25:56.235960",
     "status": "completed"
    },
    "tags": []
   },
   "source": [
    "***Final Model:***\n",
    "The model was trained on train dataset, parameters were tested on validation set and finally fitted to test set.\n",
    "After trying different models like logistic regression, random forest classifier etc., the model that gave the highest F1 score on validation set was selected. The final model was Neural Network (Multi-layer Perceptron Classifier). Different values for the different parameter like no. of hidden units, maximum iteration were tested and the ones with highest F1 score on validation set were selected.\n",
    "That was the final model which was finally applied to test set given and uploaded."
   ]
  },
  {
   "cell_type": "code",
   "execution_count": 12,
   "id": "edfcddd4",
   "metadata": {
    "execution": {
     "iopub.execute_input": "2022-09-08T14:25:56.255616Z",
     "iopub.status.busy": "2022-09-08T14:25:56.255202Z",
     "iopub.status.idle": "2022-09-08T14:25:56.374277Z",
     "shell.execute_reply": "2022-09-08T14:25:56.373470Z"
    },
    "papermill": {
     "duration": 0.131953,
     "end_time": "2022-09-08T14:25:56.379837",
     "exception": false,
     "start_time": "2022-09-08T14:25:56.247884",
     "status": "completed"
    },
    "tags": []
   },
   "outputs": [
    {
     "data": {
      "text/html": [
       "<div>\n",
       "<style scoped>\n",
       "    .dataframe tbody tr th:only-of-type {\n",
       "        vertical-align: middle;\n",
       "    }\n",
       "\n",
       "    .dataframe tbody tr th {\n",
       "        vertical-align: top;\n",
       "    }\n",
       "\n",
       "    .dataframe thead tr th {\n",
       "        text-align: left;\n",
       "    }\n",
       "</style>\n",
       "<table border=\"1\" class=\"dataframe\">\n",
       "  <thead>\n",
       "    <tr>\n",
       "      <th></th>\n",
       "      <th>created_at</th>\n",
       "      <th>campaign_var_1</th>\n",
       "      <th>campaign_var_2</th>\n",
       "      <th>products_purchased</th>\n",
       "      <th>signup_date</th>\n",
       "      <th>user_activity_var_1</th>\n",
       "      <th>user_activity_var_2</th>\n",
       "      <th>user_activity_var_3</th>\n",
       "      <th>user_activity_var_4</th>\n",
       "      <th>user_activity_var_5</th>\n",
       "      <th>user_activity_var_6</th>\n",
       "      <th>user_activity_var_7</th>\n",
       "      <th>user_activity_var_8</th>\n",
       "      <th>user_activity_var_9</th>\n",
       "      <th>user_activity_var_10</th>\n",
       "      <th>user_activity_var_11</th>\n",
       "      <th>user_activity_var_12</th>\n",
       "    </tr>\n",
       "  </thead>\n",
       "  <tbody>\n",
       "    <tr>\n",
       "      <th>0</th>\n",
       "      <td>0.653846</td>\n",
       "      <td>0.333333</td>\n",
       "      <td>0.214286</td>\n",
       "      <td>0.25</td>\n",
       "      <td>0.000000</td>\n",
       "      <td>0.0</td>\n",
       "      <td>0.0</td>\n",
       "      <td>0.0</td>\n",
       "      <td>0.0</td>\n",
       "      <td>0.0</td>\n",
       "      <td>0.000000</td>\n",
       "      <td>0.0</td>\n",
       "      <td>0.5</td>\n",
       "      <td>0.0</td>\n",
       "      <td>0.0</td>\n",
       "      <td>0.00</td>\n",
       "      <td>0.0</td>\n",
       "    </tr>\n",
       "    <tr>\n",
       "      <th>1</th>\n",
       "      <td>0.296703</td>\n",
       "      <td>0.266667</td>\n",
       "      <td>0.214286</td>\n",
       "      <td>0.00</td>\n",
       "      <td>0.000000</td>\n",
       "      <td>0.0</td>\n",
       "      <td>0.0</td>\n",
       "      <td>0.0</td>\n",
       "      <td>0.0</td>\n",
       "      <td>0.0</td>\n",
       "      <td>0.333333</td>\n",
       "      <td>0.0</td>\n",
       "      <td>0.5</td>\n",
       "      <td>0.0</td>\n",
       "      <td>0.0</td>\n",
       "      <td>0.00</td>\n",
       "      <td>0.0</td>\n",
       "    </tr>\n",
       "    <tr>\n",
       "      <th>2</th>\n",
       "      <td>0.711538</td>\n",
       "      <td>0.133333</td>\n",
       "      <td>0.000000</td>\n",
       "      <td>0.50</td>\n",
       "      <td>0.118599</td>\n",
       "      <td>0.0</td>\n",
       "      <td>0.0</td>\n",
       "      <td>0.0</td>\n",
       "      <td>0.0</td>\n",
       "      <td>0.5</td>\n",
       "      <td>0.000000</td>\n",
       "      <td>0.0</td>\n",
       "      <td>0.0</td>\n",
       "      <td>0.0</td>\n",
       "      <td>0.0</td>\n",
       "      <td>0.00</td>\n",
       "      <td>0.0</td>\n",
       "    </tr>\n",
       "    <tr>\n",
       "      <th>3</th>\n",
       "      <td>0.219780</td>\n",
       "      <td>0.266667</td>\n",
       "      <td>0.285714</td>\n",
       "      <td>0.00</td>\n",
       "      <td>0.000000</td>\n",
       "      <td>0.0</td>\n",
       "      <td>0.0</td>\n",
       "      <td>0.0</td>\n",
       "      <td>0.0</td>\n",
       "      <td>0.0</td>\n",
       "      <td>0.333333</td>\n",
       "      <td>0.5</td>\n",
       "      <td>0.0</td>\n",
       "      <td>0.0</td>\n",
       "      <td>0.0</td>\n",
       "      <td>0.25</td>\n",
       "      <td>0.0</td>\n",
       "    </tr>\n",
       "    <tr>\n",
       "      <th>4</th>\n",
       "      <td>0.513736</td>\n",
       "      <td>0.400000</td>\n",
       "      <td>0.571429</td>\n",
       "      <td>0.00</td>\n",
       "      <td>0.434111</td>\n",
       "      <td>0.0</td>\n",
       "      <td>0.0</td>\n",
       "      <td>1.0</td>\n",
       "      <td>0.0</td>\n",
       "      <td>0.0</td>\n",
       "      <td>0.000000</td>\n",
       "      <td>0.0</td>\n",
       "      <td>0.0</td>\n",
       "      <td>0.0</td>\n",
       "      <td>0.0</td>\n",
       "      <td>0.00</td>\n",
       "      <td>0.0</td>\n",
       "    </tr>\n",
       "  </tbody>\n",
       "</table>\n",
       "</div>"
      ],
      "text/plain": [
       "  created_at campaign_var_1 campaign_var_2 products_purchased signup_date  \\\n",
       "0   0.653846       0.333333       0.214286               0.25    0.000000   \n",
       "1   0.296703       0.266667       0.214286               0.00    0.000000   \n",
       "2   0.711538       0.133333       0.000000               0.50    0.118599   \n",
       "3   0.219780       0.266667       0.285714               0.00    0.000000   \n",
       "4   0.513736       0.400000       0.571429               0.00    0.434111   \n",
       "\n",
       "  user_activity_var_1 user_activity_var_2 user_activity_var_3  \\\n",
       "0                 0.0                 0.0                 0.0   \n",
       "1                 0.0                 0.0                 0.0   \n",
       "2                 0.0                 0.0                 0.0   \n",
       "3                 0.0                 0.0                 0.0   \n",
       "4                 0.0                 0.0                 1.0   \n",
       "\n",
       "  user_activity_var_4 user_activity_var_5 user_activity_var_6  \\\n",
       "0                 0.0                 0.0            0.000000   \n",
       "1                 0.0                 0.0            0.333333   \n",
       "2                 0.0                 0.5            0.000000   \n",
       "3                 0.0                 0.0            0.333333   \n",
       "4                 0.0                 0.0            0.000000   \n",
       "\n",
       "  user_activity_var_7 user_activity_var_8 user_activity_var_9  \\\n",
       "0                 0.0                 0.5                 0.0   \n",
       "1                 0.0                 0.5                 0.0   \n",
       "2                 0.0                 0.0                 0.0   \n",
       "3                 0.5                 0.0                 0.0   \n",
       "4                 0.0                 0.0                 0.0   \n",
       "\n",
       "  user_activity_var_10 user_activity_var_11 user_activity_var_12  \n",
       "0                  0.0                 0.00                  0.0  \n",
       "1                  0.0                 0.00                  0.0  \n",
       "2                  0.0                 0.00                  0.0  \n",
       "3                  0.0                 0.25                  0.0  \n",
       "4                  0.0                 0.00                  0.0  "
      ]
     },
     "execution_count": 12,
     "metadata": {},
     "output_type": "execute_result"
    }
   ],
   "source": [
    "#Preprocessing data\n",
    "cols = X_train.columns\n",
    "\n",
    "#using simpleimputer for imputing missing values and minmaxscaler for normalisation\n",
    "imp=SimpleImputer(strategy='constant')\n",
    "scaler = MinMaxScaler()\n",
    "X_train = imp.fit_transform(X_train)\n",
    "X_valid = imp.transform(X_valid)\n",
    "\n",
    "X_train = scaler.fit_transform(X_train)\n",
    "X_valid = scaler.transform(X_valid)\n",
    "\n",
    "X_train= pd.DataFrame(X_train, columns=[cols])\n",
    "X_valid = pd.DataFrame(X_valid, columns=[cols])\n",
    "X_train.describe()\n",
    "X_train.head()"
   ]
  },
  {
   "cell_type": "code",
   "execution_count": 13,
   "id": "56c8e65f",
   "metadata": {
    "execution": {
     "iopub.execute_input": "2022-09-08T14:25:56.395709Z",
     "iopub.status.busy": "2022-09-08T14:25:56.394801Z",
     "iopub.status.idle": "2022-09-08T14:26:07.569644Z",
     "shell.execute_reply": "2022-09-08T14:26:07.568401Z"
    },
    "papermill": {
     "duration": 11.185435,
     "end_time": "2022-09-08T14:26:07.572394",
     "exception": false,
     "start_time": "2022-09-08T14:25:56.386959",
     "status": "completed"
    },
    "tags": []
   },
   "outputs": [
    {
     "name": "stderr",
     "output_type": "stream",
     "text": [
      "/opt/conda/lib/python3.7/site-packages/sklearn/utils/validation.py:1692: FutureWarning: Feature names only support names that are all strings. Got feature names with dtypes: ['tuple']. An error will be raised in 1.2.\n",
      "  FutureWarning,\n"
     ]
    },
    {
     "name": "stdout",
     "output_type": "stream",
     "text": [
      "0.7193195625759417\n"
     ]
    },
    {
     "name": "stderr",
     "output_type": "stream",
     "text": [
      "/opt/conda/lib/python3.7/site-packages/sklearn/utils/validation.py:1692: FutureWarning: Feature names only support names that are all strings. Got feature names with dtypes: ['tuple']. An error will be raised in 1.2.\n",
      "  FutureWarning,\n"
     ]
    }
   ],
   "source": [
    "#After tuning the various paramters on validation set (giving highest F1 score):\n",
    "#the final parameters are used to train the model.\n",
    "model = MLPClassifier(random_state=1,hidden_layer_sizes=(30,20),max_iter=250)\n",
    "model.fit(X_train, y_train)\n",
    "preds = model.predict(X_valid)\n",
    "F1=f1_score(y_valid,preds)\n",
    "print(F1)"
   ]
  },
  {
   "cell_type": "code",
   "execution_count": null,
   "id": "855d1c58",
   "metadata": {
    "papermill": {
     "duration": 0.010058,
     "end_time": "2022-09-08T14:26:07.592886",
     "exception": false,
     "start_time": "2022-09-08T14:26:07.582828",
     "status": "completed"
    },
    "tags": []
   },
   "outputs": [],
   "source": []
  },
  {
   "cell_type": "code",
   "execution_count": 14,
   "id": "a0047b3f",
   "metadata": {
    "execution": {
     "iopub.execute_input": "2022-09-08T14:26:07.616264Z",
     "iopub.status.busy": "2022-09-08T14:26:07.615601Z",
     "iopub.status.idle": "2022-09-08T14:26:07.679657Z",
     "shell.execute_reply": "2022-09-08T14:26:07.677905Z"
    },
    "papermill": {
     "duration": 0.080075,
     "end_time": "2022-09-08T14:26:07.683721",
     "exception": false,
     "start_time": "2022-09-08T14:26:07.603646",
     "status": "completed"
    },
    "tags": []
   },
   "outputs": [
    {
     "name": "stderr",
     "output_type": "stream",
     "text": [
      "/opt/conda/lib/python3.7/site-packages/sklearn/utils/validation.py:1692: FutureWarning: Feature names only support names that are all strings. Got feature names with dtypes: ['tuple']. An error will be raised in 1.2.\n",
      "  FutureWarning,\n"
     ]
    }
   ],
   "source": [
    "ID =X_test.index\n",
    "X_test['created_at'] = pd.to_datetime(X_test['created_at'])\n",
    "X_test['signup_date']=pd.to_datetime(X_test['signup_date'])\n",
    "X_test['signup_date']=today-X_test['signup_date']\n",
    "X_test['created_at']=today-X_test['created_at']\n",
    "X_test['created_at'] = (X_test['created_at'] / np.timedelta64(1,'D')).astype(int,errors='ignore')\n",
    "X_test['signup_date'] = (X_test['signup_date'] / np.timedelta64(1,'D')).astype(int,errors='ignore')\n",
    "X_test = imp.transform(X_test)\n",
    "X_test = scaler.transform(X_test)\n",
    "X_test = pd.DataFrame(X_test, columns=[cols])\n",
    "preds = model.predict(X_test)\n"
   ]
  },
  {
   "cell_type": "code",
   "execution_count": 15,
   "id": "dd9523f4",
   "metadata": {
    "execution": {
     "iopub.execute_input": "2022-09-08T14:26:07.707423Z",
     "iopub.status.busy": "2022-09-08T14:26:07.706861Z",
     "iopub.status.idle": "2022-09-08T14:26:07.744416Z",
     "shell.execute_reply": "2022-09-08T14:26:07.743281Z"
    },
    "papermill": {
     "duration": 0.052773,
     "end_time": "2022-09-08T14:26:07.747850",
     "exception": false,
     "start_time": "2022-09-08T14:26:07.695077",
     "status": "completed"
    },
    "tags": []
   },
   "outputs": [],
   "source": [
    "output = pd.DataFrame({'id': ID,\n",
    "                       'buy': preds})\n",
    "output.to_csv('submission.csv', index=False)"
   ]
  }
 ],
 "metadata": {
  "kernelspec": {
   "display_name": "Python 3",
   "language": "python",
   "name": "python3"
  },
  "language_info": {
   "codemirror_mode": {
    "name": "ipython",
    "version": 3
   },
   "file_extension": ".py",
   "mimetype": "text/x-python",
   "name": "python",
   "nbconvert_exporter": "python",
   "pygments_lexer": "ipython3",
   "version": "3.7.12"
  },
  "papermill": {
   "default_parameters": {},
   "duration": 23.812819,
   "end_time": "2022-09-08T14:26:08.489007",
   "environment_variables": {},
   "exception": null,
   "input_path": "__notebook__.ipynb",
   "output_path": "__notebook__.ipynb",
   "parameters": {},
   "start_time": "2022-09-08T14:25:44.676188",
   "version": "2.3.4"
  }
 },
 "nbformat": 4,
 "nbformat_minor": 5
}
